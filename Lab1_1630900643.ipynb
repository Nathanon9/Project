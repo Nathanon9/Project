{
  "nbformat": 4,
  "nbformat_minor": 0,
  "metadata": {
    "colab": {
      "provenance": [],
      "authorship_tag": "ABX9TyN9egKeyLO04hMNYHcHpP6u",
      "include_colab_link": true
    },
    "kernelspec": {
      "name": "python3",
      "display_name": "Python 3"
    },
    "language_info": {
      "name": "python"
    }
  },
  "cells": [
    {
      "cell_type": "markdown",
      "metadata": {
        "id": "view-in-github",
        "colab_type": "text"
      },
      "source": [
        "<a href=\"https://colab.research.google.com/github/Nathanon9/Project/blob/main/Lab1_1630900643.ipynb\" target=\"_parent\"><img src=\"https://colab.research.google.com/assets/colab-badge.svg\" alt=\"Open In Colab\"/></a>"
      ]
    },
    {
      "cell_type": "code",
      "execution_count": 1,
      "metadata": {
        "colab": {
          "base_uri": "https://localhost:8080/"
        },
        "id": "qdp1h3yjAwOB",
        "outputId": "690c52cb-be83-44a3-b012-eb74e105505d"
      },
      "outputs": [
        {
          "output_type": "stream",
          "name": "stdout",
          "text": [
            "Enter number of row: 10\n",
            "         *\n",
            "        ***\n",
            "       *****\n",
            "      *******\n",
            "     *********\n",
            "    ***********\n",
            "   *************\n",
            "  ***************\n",
            " *****************\n",
            "*******************\n",
            " *****************\n",
            "  ***************\n",
            "   *************\n",
            "    ***********\n",
            "     *********\n",
            "      *******\n",
            "       *****\n",
            "        ***\n",
            "         *\n"
          ]
        }
      ],
      "source": [
        "#1\n",
        "\n",
        "row = int(input('Enter number of row: '))\n",
        "\n",
        "for i in range(1, row+1):\n",
        "    for j in range(1,row-i+1):\n",
        "        print(\" \", end=\"\")\n",
        "    for j in range(1, 2*i):\n",
        "        print(\"*\", end=\"\")\n",
        "    print()\n",
        "\n",
        "for i in range(row-1,0, -1):\n",
        "    for j in range(1,row-i+1):\n",
        "        print(\" \", end=\"\")\n",
        "    for j in range(1, 2*i):\n",
        "        print(\"*\", end=\"\")\n",
        "    print()"
      ]
    },
    {
      "cell_type": "code",
      "source": [
        "#2\n",
        "\n",
        "row = int(input('Enter number of row: '))\n",
        "val = int(input('Enter number of diamond: '))\n",
        "\n",
        "def dm(row,val):\n",
        "    for l in range(val):\n",
        "        for i in range(1, row + 1):\n",
        "            for j in range(1, row - i + 1):\n",
        "                print(\" \", end=\"\")\n",
        "            for j in range(1, 2 * i):\n",
        "                print(\"*\", end=\"\")\n",
        "            print()\n",
        "\n",
        "        for i in range(row - 1, 0, -1):\n",
        "            for j in range(1, row - i + 1):\n",
        "                print(\" \", end=\"\")\n",
        "            for j in range(1, 2 * i):\n",
        "                print(\"*\", end=\"\")\n",
        "            print()\n",
        "dm(row,val)"
      ],
      "metadata": {
        "colab": {
          "base_uri": "https://localhost:8080/"
        },
        "id": "JBW2VNGHB0X4",
        "outputId": "3f9efd23-f131-4a33-bd78-a1a35bbc2768"
      },
      "execution_count": 2,
      "outputs": [
        {
          "output_type": "stream",
          "name": "stdout",
          "text": [
            "Enter number of row: 10\n",
            "Enter number of diamond: 1\n",
            "         *\n",
            "        ***\n",
            "       *****\n",
            "      *******\n",
            "     *********\n",
            "    ***********\n",
            "   *************\n",
            "  ***************\n",
            " *****************\n",
            "*******************\n",
            " *****************\n",
            "  ***************\n",
            "   *************\n",
            "    ***********\n",
            "     *********\n",
            "      *******\n",
            "       *****\n",
            "        ***\n",
            "         *\n"
          ]
        }
      ]
    },
    {
      "cell_type": "code",
      "source": [
        "#4\n",
        "\n",
        "i = input(\"Enter Step of Harmonic : \")\n",
        "i = int(i)\n",
        "\n",
        "def loop(i):\n",
        "    if i == 0:\n",
        "        return 0\n",
        "    else:\n",
        "        result = (1/(i+1)+loop(i-1))\n",
        "        print(f\"Limit = {i}  result = {result}\")\n",
        "        return result\n",
        "loop(i)"
      ],
      "metadata": {
        "colab": {
          "base_uri": "https://localhost:8080/"
        },
        "id": "PsbsBaDcCeLH",
        "outputId": "60a54da6-c98a-4b94-c839-e014bc376b87"
      },
      "execution_count": null,
      "outputs": [
        {
          "output_type": "stream",
          "name": "stdout",
          "text": [
            "Enter Step of Harmonic : 6\n",
            "Limit = 1  result = 0.5\n",
            "Limit = 2  result = 0.8333333333333333\n",
            "Limit = 3  result = 1.0833333333333333\n",
            "Limit = 4  result = 1.2833333333333332\n",
            "Limit = 5  result = 1.45\n",
            "Limit = 6  result = 1.5928571428571427\n"
          ]
        },
        {
          "output_type": "execute_result",
          "data": {
            "text/plain": [
              "1.5928571428571427"
            ]
          },
          "metadata": {},
          "execution_count": 22
        }
      ]
    }
  ]
}