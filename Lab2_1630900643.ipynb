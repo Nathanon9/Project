{
  "nbformat": 4,
  "nbformat_minor": 0,
  "metadata": {
    "colab": {
      "provenance": [],
      "authorship_tag": "ABX9TyNBSt+iXtvnyLbYLQ/L2KRc",
      "include_colab_link": true
    },
    "kernelspec": {
      "name": "python3",
      "display_name": "Python 3"
    },
    "language_info": {
      "name": "python"
    }
  },
  "cells": [
    {
      "cell_type": "markdown",
      "metadata": {
        "id": "view-in-github",
        "colab_type": "text"
      },
      "source": [
        "<a href=\"https://colab.research.google.com/github/Nathanon9/Project/blob/main/Lab2_1630900643.ipynb\" target=\"_parent\"><img src=\"https://colab.research.google.com/assets/colab-badge.svg\" alt=\"Open In Colab\"/></a>"
      ]
    },
    {
      "cell_type": "code",
      "execution_count": 1,
      "metadata": {
        "colab": {
          "base_uri": "https://localhost:8080/"
        },
        "id": "iIYNxCVmDYq6",
        "outputId": "09cca046-1e76-402b-ac73-c1e4027764ee"
      },
      "outputs": [
        {
          "output_type": "stream",
          "name": "stdout",
          "text": [
            "[5, 7, 9, 11, 13]\n",
            "5\n",
            "45\n"
          ]
        }
      ],
      "source": [
        "\n",
        "#1\n",
        "array = [5, 7, 9, 11, 13]\n",
        "lenarray = len(array)\n",
        "sumarray = sum(array)\n",
        "\n",
        "print(array)\n",
        "print(lenarray)\n",
        "print(sumarray)"
      ]
    },
    {
      "cell_type": "code",
      "source": [
        "#2\n",
        "array1 = [7,5,11,14,3,9,7]\n",
        "array2 = [9,11,3,4,23,5,7,1]\n",
        "\n",
        "lenarray = len(array1),len(array2)\n",
        "\n",
        "print(lenarray)\n",
        "\n",
        "array1.insert(15, 8)\n",
        "\n",
        "indexarray1 = array1.index(7)\n",
        "indexarray2 = array2.index(7)\n",
        "\n",
        "print(indexarray1)\n",
        "print(indexarray2)\n",
        "\n",
        "array1.append(1)\n",
        "array2.append(14)\n",
        "\n",
        "print(\"array1\",array1)\n",
        "print(\"array2\",array2)\n",
        "\n",
        "array3 = array1.copy()\n",
        "\n",
        "print(\"array3\",array3)\n",
        "\n",
        "array2.extend(array3)\n",
        "\n",
        "print(array2)\n",
        "\n",
        "indexarray3 = array2.index(7)\n",
        "\n",
        "print(indexarray3)\n",
        "\n",
        "array3.sort()\n",
        "\n",
        "print(array3)\n",
        "\n",
        "array3.remove(7)\n",
        "array3.remove(7)\n",
        "\n",
        "print(array3)\n",
        "\n",
        "array4 = array3.copy()\n",
        "\n",
        "print(array4)\n",
        "\n",
        "array4.reverse()\n",
        "\n",
        "print(\"array 3\",array3)\n",
        "print(\"array 4\",array4)\n"
      ],
      "metadata": {
        "colab": {
          "base_uri": "https://localhost:8080/"
        },
        "id": "6lCl76l6Dlv3",
        "outputId": "f910965e-062d-46d2-a0f1-c335f57545a1"
      },
      "execution_count": null,
      "outputs": [
        {
          "output_type": "stream",
          "name": "stdout",
          "text": [
            "(7, 8)\n",
            "0\n",
            "6\n",
            "array1 [7, 5, 11, 14, 3, 9, 7, 8, 1]\n",
            "array2 [9, 11, 3, 4, 23, 5, 7, 1, 14]\n",
            "array3 [7, 5, 11, 14, 3, 9, 7, 8, 1]\n",
            "[9, 11, 3, 4, 23, 5, 7, 1, 14, 7, 5, 11, 14, 3, 9, 7, 8, 1]\n",
            "6\n",
            "[1, 3, 5, 7, 7, 8, 9, 11, 14]\n",
            "[1, 3, 5, 8, 9, 11, 14]\n",
            "[1, 3, 5, 8, 9, 11, 14]\n",
            "array 3 [1, 3, 5, 8, 9, 11, 14]\n",
            "array 4 [14, 11, 9, 8, 5, 3, 1]\n"
          ]
        }
      ]
    },
    {
      "cell_type": "code",
      "source": [
        "#3\n",
        "\n",
        "array = [\"Number\", \"ID\", \"Name\", \"Count\"]\n",
        "print(array)\n",
        "print(len(array))\n",
        "print(array.index(\"Name\"))\n",
        "array.append(\"Status\")\n",
        "print(array)"
      ],
      "metadata": {
        "colab": {
          "base_uri": "https://localhost:8080/"
        },
        "id": "vnlnG_7wDl4H",
        "outputId": "e32317a0-c724-45c9-a195-7a794b10f478"
      },
      "execution_count": 2,
      "outputs": [
        {
          "output_type": "stream",
          "name": "stdout",
          "text": [
            "['Number', 'ID', 'Name', 'Count']\n",
            "4\n",
            "2\n",
            "['Number', 'ID', 'Name', 'Count', 'Status']\n"
          ]
        }
      ]
    },
    {
      "cell_type": "code",
      "source": [
        "#4\n",
        "array = [['Number ID','Name','Count','Status'],[]]\n",
        "arraylen = len(array)\n",
        "print(arraylen)\n",
        "\n",
        "array.insert(1,[1,\"Rubber\",0,\"Out of stock\"])\n",
        "array.insert(2,[2,\"Ruler\",5,\"In stock\"])\n",
        "array.insert(3,[3,\"Pencil\",1,\"In stock\"])\n",
        "print(array)"
      ],
      "metadata": {
        "colab": {
          "base_uri": "https://localhost:8080/"
        },
        "id": "mF7Hid9HEw8F",
        "outputId": "79fd2b9c-78aa-4d7e-fd42-e801d44e170d"
      },
      "execution_count": null,
      "outputs": [
        {
          "output_type": "stream",
          "name": "stdout",
          "text": [
            "2\n",
            "[['Number ID', 'Name', 'Count', 'Status'], [1, 'Rubber', 0, 'Out of stock'], [2, 'Ruler', 5, 'In stock'], [3, 'Pencil', 1, 'In stock'], []]\n"
          ]
        }
      ]
    },
    {
      "cell_type": "code",
      "source": [
        "#5\n",
        "array = [[\"Number ID\",\"Name\",\"count\",\"Status\"]]\n",
        "array.insert(1,[1,\"Rubber\",0,\"Out of stock\"])\n",
        "array.insert(2,[2,\"Ruler\",5,\"In stock\"])\n",
        "array.insert(3,[3,\"Pencil\",1,\"In stock\"])\n",
        "array.insert(4,[4,\"Pen\",10,\"In stock\"])\n",
        "array.insert(5,[5,\"Colour pencil\",5,\"In stock\"])\n",
        "array.insert(6,[6,\"A4 Paper\",0,\"Out of stock\"])\n",
        "\n",
        "print(array)\n",
        "for x in array:\n",
        "    for j in x:\n",
        "        if j == \"In stock\":\n",
        "            print(x)\n",
        "\n",
        "for x in array:\n",
        "    for j in x:\n",
        "        if j == \"Out of stock\":\n",
        "            print(x)\n",
        "\n",
        "i = input(\"Which item do you want : \")\n",
        "x = int(i)\n",
        "\n",
        "def buy(array):\n",
        "    n = 1\n",
        "    while int(n) >= 1:\n",
        "\n",
        "        print(\"\\nRemaining item :\")\n",
        "        for Remain in range(1, len(array), 1):\n",
        "            print(array[Remain])\n",
        "\n",
        "        if 7 > x > 0:\n",
        "            h = input(\"Pieces : \")\n",
        "            n = input(\"other products? Yes:1 No:0 : \")\n",
        "\n",
        "            for i in range(0, len(array), 1):\n",
        "                for j in range(0, len(array[i]), 1):\n",
        "                    if str(array[i][0]) == i:\n",
        "                        array[i][2] = array[i][2] - int(h)\n",
        "                        if array[i][2] == 0:\n",
        "                            array[i][3] = \"Out of stock\"\n",
        "                            break\n",
        "                        elif array[i][2] < 0:\n",
        "                            array[i][2] = 0\n",
        "                            print(array[i][1], \" Out of stock\")\n",
        "                            break\n",
        "                        else:\n",
        "                            break\n",
        "        else:\n",
        "            print(\"Something went Wrong please try again\")\n",
        "            return buy(array)\n",
        "    print(\"\\n\")\n",
        "    for o in array:\n",
        "        print(o)\n",
        "\n",
        "buy(array)"
      ],
      "metadata": {
        "colab": {
          "base_uri": "https://localhost:8080/"
        },
        "id": "nAjS8esRE8GS",
        "outputId": "158e2478-af46-4f2a-ea00-f663937761d9"
      },
      "execution_count": null,
      "outputs": [
        {
          "output_type": "stream",
          "name": "stdout",
          "text": [
            "[['Number ID', 'Name', 'count', 'Status'], [1, 'Rubber', 0, 'Out of stock'], [2, 'Ruler', 5, 'In stock'], [3, 'Pencil', 1, 'In stock'], [4, 'Pen', 10, 'In stock'], [5, 'Colour pencil', 5, 'In stock'], [6, 'A4 Paper', 0, 'Out of stock']]\n",
            "[2, 'Ruler', 5, 'In stock']\n",
            "[3, 'Pencil', 1, 'In stock']\n",
            "[4, 'Pen', 10, 'In stock']\n",
            "[5, 'Colour pencil', 5, 'In stock']\n",
            "[1, 'Rubber', 0, 'Out of stock']\n",
            "[6, 'A4 Paper', 0, 'Out of stock']\n",
            "Which item do you want : 4\n",
            "\n",
            "Remaining item :\n",
            "[1, 'Rubber', 0, 'Out of stock']\n",
            "[2, 'Ruler', 5, 'In stock']\n",
            "[3, 'Pencil', 1, 'In stock']\n",
            "[4, 'Pen', 10, 'In stock']\n",
            "[5, 'Colour pencil', 5, 'In stock']\n",
            "[6, 'A4 Paper', 0, 'Out of stock']\n",
            "Pieces : 2\n",
            "other products? Yes:1 No:0 : 1\n",
            "\n",
            "Remaining item :\n",
            "[1, 'Rubber', 0, 'Out of stock']\n",
            "[2, 'Ruler', 5, 'In stock']\n",
            "[3, 'Pencil', 1, 'In stock']\n",
            "[4, 'Pen', 10, 'In stock']\n",
            "[5, 'Colour pencil', 5, 'In stock']\n",
            "[6, 'A4 Paper', 0, 'Out of stock']\n",
            "Pieces : 0\n",
            "other products? Yes:1 No:0 : 0\n",
            "\n",
            "\n",
            "['Number ID', 'Name', 'count', 'Status']\n",
            "[1, 'Rubber', 0, 'Out of stock']\n",
            "[2, 'Ruler', 5, 'In stock']\n",
            "[3, 'Pencil', 1, 'In stock']\n",
            "[4, 'Pen', 10, 'In stock']\n",
            "[5, 'Colour pencil', 5, 'In stock']\n",
            "[6, 'A4 Paper', 0, 'Out of stock']\n"
          ]
        }
      ]
    }
  ]
}