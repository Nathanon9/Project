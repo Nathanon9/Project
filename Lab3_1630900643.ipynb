{
  "nbformat": 4,
  "nbformat_minor": 0,
  "metadata": {
    "colab": {
      "provenance": [],
      "authorship_tag": "ABX9TyOvKhkii26lZPb2cZId4pMi",
      "include_colab_link": true
    },
    "kernelspec": {
      "name": "python3",
      "display_name": "Python 3"
    },
    "language_info": {
      "name": "python"
    }
  },
  "cells": [
    {
      "cell_type": "markdown",
      "metadata": {
        "id": "view-in-github",
        "colab_type": "text"
      },
      "source": [
        "<a href=\"https://colab.research.google.com/github/Nathanon9/Project/blob/main/Lab3_1630900643.ipynb\" target=\"_parent\"><img src=\"https://colab.research.google.com/assets/colab-badge.svg\" alt=\"Open In Colab\"/></a>"
      ]
    },
    {
      "cell_type": "code",
      "execution_count": 1,
      "metadata": {
        "colab": {
          "base_uri": "https://localhost:8080/"
        },
        "id": "E0WPR6tQGfGY",
        "outputId": "a264c36b-bebb-44ad-dbf4-52f3b9e8f68e"
      },
      "outputs": [
        {
          "output_type": "stream",
          "name": "stdout",
          "text": [
            "A\n",
            "B\n",
            "C\n",
            "D\n",
            "E\n",
            "F\n",
            "Unpop\n",
            "A\n",
            "B\n",
            "C\n",
            "D\n",
            "E\n",
            "Pop F\n"
          ]
        }
      ],
      "source": [
        "#1\n",
        "\n",
        "print(\"A\")\n",
        "print(\"B\")\n",
        "print(\"C\")\n",
        "print(\"D\")\n",
        "print(\"E\")\n",
        "print(\"F\")\n",
        "print(\"Unpop\")\n",
        "print(\"A\")\n",
        "print(\"B\")\n",
        "print(\"C\")\n",
        "print(\"D\")\n",
        "print(\"E\")\n",
        "print(\"Pop F\")"
      ]
    },
    {
      "cell_type": "code",
      "source": [
        "#2\n",
        "\n",
        "print(\"A\")\n",
        "print(\"B\")\n",
        "print(\"C\")\n",
        "print(\"D\")\n",
        "print(\"E\")\n",
        "print(\"F\")\n",
        "print(\"Unpop\")\n",
        "print(\"B\")\n",
        "print(\"C\")\n",
        "print(\"D\")\n",
        "print(\"E\")\n",
        "print(\"F\")\n",
        "print(\"Pop F\")"
      ],
      "metadata": {
        "colab": {
          "base_uri": "https://localhost:8080/"
        },
        "id": "rpC2cPvDGlzK",
        "outputId": "0735dc13-8526-402d-cf9c-a4adf8c7f796"
      },
      "execution_count": 5,
      "outputs": [
        {
          "output_type": "stream",
          "name": "stdout",
          "text": [
            "A\n",
            "B\n",
            "C\n",
            "D\n",
            "E\n",
            "F\n",
            "Unpop\n",
            "B\n",
            "C\n",
            "D\n",
            "E\n",
            "F\n",
            "Pop F\n"
          ]
        }
      ]
    },
    {
      "cell_type": "code",
      "source": [
        "#3\n",
        "print(\"A\")\n",
        "print(\"B\")\n",
        "print(\"C\")\n",
        "print(\"D\")\n",
        "print(\"E\")\n",
        "print(\"F\")\n",
        "print(\"Stack\")\n",
        "print(\"F\")\n",
        "print(\"E\")\n",
        "print(\"D\")\n",
        "print(\"C\")\n",
        "print(\"B\")\n",
        "print(\"A\")\n",
        "print(\"reverse\")"
      ],
      "metadata": {
        "colab": {
          "base_uri": "https://localhost:8080/"
        },
        "id": "h1wpukdGGoO5",
        "outputId": "ddcfbb29-a712-455f-e1c4-d80b49579584"
      },
      "execution_count": 3,
      "outputs": [
        {
          "output_type": "stream",
          "name": "stdout",
          "text": [
            "A\n",
            "B\n",
            "C\n",
            "D\n",
            "E\n",
            "F\n",
            "Stack\n",
            "F\n",
            "E\n",
            "D\n",
            "C\n",
            "B\n",
            "A\n",
            "reverse\n"
          ]
        }
      ]
    }
  ]
}