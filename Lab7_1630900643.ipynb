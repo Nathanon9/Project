{
  "nbformat": 4,
  "nbformat_minor": 0,
  "metadata": {
    "colab": {
      "provenance": [],
      "authorship_tag": "ABX9TyPSlwqsQxr4y+2XJtWnrYKp",
      "include_colab_link": true
    },
    "kernelspec": {
      "name": "python3",
      "display_name": "Python 3"
    },
    "language_info": {
      "name": "python"
    }
  },
  "cells": [
    {
      "cell_type": "markdown",
      "metadata": {
        "id": "view-in-github",
        "colab_type": "text"
      },
      "source": [
        "<a href=\"https://colab.research.google.com/github/Nathanon9/Project/blob/main/Lab7_1630900643.ipynb\" target=\"_parent\"><img src=\"https://colab.research.google.com/assets/colab-badge.svg\" alt=\"Open In Colab\"/></a>"
      ]
    },
    {
      "cell_type": "code",
      "execution_count": 1,
      "metadata": {
        "colab": {
          "base_uri": "https://localhost:8080/"
        },
        "id": "f55bF88TLOQh",
        "outputId": "bd9268c9-8ba3-40f0-a1e9-2eb461131481"
      },
      "outputs": [
        {
          "output_type": "stream",
          "name": "stdout",
          "text": [
            "The unsorted list is:  [5, 3, 8, 6, 7, 2]\n",
            "The sorted list is:  [2, 3, 5, 6, 7, 8]\n"
          ]
        }
      ],
      "source": [
        "#1\n",
        "\n",
        "def bubble_sort(list1):\n",
        "    for i in range(0, len(list1) - 1):\n",
        "        for j in range(len(list1) - 1):\n",
        "            if (list1[j] > list1[j + 1]):\n",
        "                temp = list1[j]\n",
        "                list1[j] = list1[j + 1]\n",
        "                list1[j + 1] = temp\n",
        "    return list1\n",
        "\n",
        "\n",
        "list1 = [5, 3, 8, 6, 7, 2]\n",
        "print(\"The unsorted list is: \", list1)\n",
        "print(\"The sorted list is: \", bubble_sort(list1))"
      ]
    },
    {
      "cell_type": "code",
      "source": [
        "#2\n",
        "\n",
        "def selection_sort(array):\n",
        "    length = len(array)\n",
        "\n",
        "    for i in range(length - 1):\n",
        "        minIndex = i\n",
        "        for j in range(i + 1, length):\n",
        "            if array[j] < array[minIndex]:\n",
        "                minIndex = j\n",
        "        array[i], array[minIndex] = array[minIndex], array[i]\n",
        "    return array\n",
        "\n",
        "array = [21, 6, 9, 33, 3]\n",
        "print(\"The sorted array is: \", selection_sort(array)) "
      ],
      "metadata": {
        "colab": {
          "base_uri": "https://localhost:8080/"
        },
        "id": "9v-lBKxuLWgP",
        "outputId": "f7b4f1ef-3f3d-42b8-ffb5-9b8e5e2fb7d8"
      },
      "execution_count": 2,
      "outputs": [
        {
          "output_type": "stream",
          "name": "stdout",
          "text": [
            "The sorted array is:  [3, 6, 9, 21, 33]\n"
          ]
        }
      ]
    },
    {
      "cell_type": "code",
      "source": [
        "#3\n",
        "\n",
        "def insertionSort(arr):\n",
        "    for i in range(1, len(arr)):\n",
        "\n",
        "        key = arr[i]\n",
        "        j = i - 1\n",
        "        while j >= 0 and key < arr[j]:\n",
        "            arr[j + 1] = arr[j]\n",
        "            j -= 1\n",
        "        arr[j + 1] = key\n",
        "\n",
        "arr = [12, 11, 13, 5, 6]\n",
        "insertionSort(arr)\n",
        "print(arr)"
      ],
      "metadata": {
        "colab": {
          "base_uri": "https://localhost:8080/"
        },
        "id": "8juYMUNbLX1b",
        "outputId": "dda2d819-c356-436e-b627-7907a7c14bfb"
      },
      "execution_count": 3,
      "outputs": [
        {
          "output_type": "stream",
          "name": "stdout",
          "text": [
            "[5, 6, 11, 12, 13]\n"
          ]
        }
      ]
    }
  ]
}